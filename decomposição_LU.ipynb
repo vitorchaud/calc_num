{
  "nbformat": 4,
  "nbformat_minor": 0,
  "metadata": {
    "colab": {
      "provenance": [],
      "authorship_tag": "ABX9TyPa0NDqSfMdInjU6RQ9ok6T",
      "include_colab_link": true
    },
    "kernelspec": {
      "name": "python3",
      "display_name": "Python 3"
    },
    "language_info": {
      "name": "python"
    }
  },
  "cells": [
    {
      "cell_type": "markdown",
      "metadata": {
        "id": "view-in-github",
        "colab_type": "text"
      },
      "source": [
        "<a href=\"https://colab.research.google.com/github/vitorchaud/calc_num/blob/main/decomposi%C3%A7%C3%A3o_LU.ipynb\" target=\"_parent\"><img src=\"https://colab.research.google.com/assets/colab-badge.svg\" alt=\"Open In Colab\"/></a>"
      ]
    },
    {
      "cell_type": "markdown",
      "source": [
        "# **Cálculo Numérico para a Engenheria Elétrica (CALNE) 2S - 2025**\n",
        "\n",
        "---\n",
        "\n",
        "# **Método para decomposição LU**\n",
        "---\n",
        "\n"
      ],
      "metadata": {
        "id": "IhBDafmg81kt"
      }
    },
    {
      "cell_type": "code",
      "execution_count": 1,
      "metadata": {
        "colab": {
          "base_uri": "https://localhost:8080/"
        },
        "id": "UrxGl50-8jp4",
        "outputId": "97a9862e-f044-48ad-b19b-fd222c5a700a"
      },
      "outputs": [
        {
          "output_type": "stream",
          "name": "stdout",
          "text": [
            "Matriz L:\n",
            "[[1.         0.         0.        ]\n",
            " [1.5        1.         0.        ]\n",
            " [0.5        0.33333333 1.        ]]\n",
            "\n",
            "Matriz U:\n",
            "[[ 4.          3.          2.        ]\n",
            " [ 0.         -1.5        -1.        ]\n",
            " [ 0.          0.          1.33333333]]\n"
          ]
        }
      ],
      "source": [
        "# Importa a biblioteca NumPy para manipulação de matrizes\n",
        "import numpy as np\n",
        "\n",
        "# Define a matriz A que desejamos decompor\n",
        "A = np.array([[4, 3, 2],\n",
        "              [6, 3, 2],\n",
        "              [2, 1, 2]], dtype=float)\n",
        "\n",
        "# Obtém o número de linhas (ou colunas) da matriz A\n",
        "n = A.shape[0]\n",
        "\n",
        "# Inicializa as matrizes L e U com zeros\n",
        "L = np.zeros((n, n))\n",
        "U = np.zeros((n, n))\n",
        "\n",
        "# Processo de decomposição LU\n",
        "for i in range(n):\n",
        "    # Construção da matriz U\n",
        "    for k in range(i, n):\n",
        "        # Calcula o elemento U[i, k] como a diferença entre A[i, k] e a soma dos produtos correspondentes de L e U\n",
        "        soma = 0\n",
        "        for j in range(i):\n",
        "            soma += L[i, j] * U[j, k]\n",
        "        U[i, k] = A[i, k] - soma\n",
        "\n",
        "    # Construção da matriz L\n",
        "    for k in range(i, n):\n",
        "        if i == k:\n",
        "            # Define os elementos da diagonal principal de L como 1\n",
        "            L[i, i] = 1.0\n",
        "        else:\n",
        "            # Calcula o elemento L[k, i] como a diferença entre A[k, i] e a soma dos produtos correspondentes de L e U,\n",
        "            # dividido pelo elemento U[i, i]\n",
        "            soma = 0\n",
        "            for j in range(i):\n",
        "                soma += L[k, j] * U[j, i]\n",
        "            L[k, i] = (A[k, i] - soma) / U[i, i]\n",
        "\n",
        "# Exibe as matrizes L e U resultantes\n",
        "print(\"Matriz L:\")\n",
        "print(L)\n",
        "print(\"\\nMatriz U:\")\n",
        "print(U)\n",
        "\n"
      ]
    }
  ]
}