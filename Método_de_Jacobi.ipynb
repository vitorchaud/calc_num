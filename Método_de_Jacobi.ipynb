{
  "nbformat": 4,
  "nbformat_minor": 0,
  "metadata": {
    "colab": {
      "provenance": [],
      "authorship_tag": "ABX9TyM2cnRuhR1rxUdzEeoqbTIM",
      "include_colab_link": true
    },
    "kernelspec": {
      "name": "python3",
      "display_name": "Python 3"
    },
    "language_info": {
      "name": "python"
    }
  },
  "cells": [
    {
      "cell_type": "markdown",
      "metadata": {
        "id": "view-in-github",
        "colab_type": "text"
      },
      "source": [
        "<a href=\"https://colab.research.google.com/github/vitorchaud/calc_num/blob/main/M%C3%A9todo_de_Jacobi.ipynb\" target=\"_parent\"><img src=\"https://colab.research.google.com/assets/colab-badge.svg\" alt=\"Open In Colab\"/></a>"
      ]
    },
    {
      "cell_type": "markdown",
      "source": [
        "# **Cálculo Numérico para a Engenheria Elétrica (CALNE) 2S - 2025**\n",
        "\n",
        "---\n",
        "\n",
        "# **Método de Jacobi**\n",
        "---\n",
        "\n"
      ],
      "metadata": {
        "id": "IhBDafmg81kt"
      }
    },
    {
      "cell_type": "code",
      "execution_count": 1,
      "metadata": {
        "colab": {
          "base_uri": "https://localhost:8080/"
        },
        "id": "UrxGl50-8jp4",
        "outputId": "5dcda7dd-1632-44b1-bd03-782147d9de5e"
      },
      "outputs": [
        {
          "output_type": "stream",
          "name": "stdout",
          "text": [
            "Solução aproximada:\n",
            "[4.99995622 4.99992395 4.9999182  4.99993395]\n"
          ]
        }
      ],
      "source": [
        "# Importa a biblioteca NumPy para manipulação de matrizes e vetores\n",
        "import numpy as np\n",
        "\n",
        "# Define a matriz A e o vetor b do sistema Ax = b\n",
        "A = np.array([[4, -1, 0, 0],\n",
        "              [-1, 4, -1, 0],\n",
        "              [0, -1, 4, -1],\n",
        "              [0, 0, -1, 3]], dtype=float)\n",
        "\n",
        "b = np.array([15, 10, 10, 10], dtype=float)\n",
        "\n",
        "# Define o número de variáveis do sistema\n",
        "n = len(b)\n",
        "\n",
        "# Define o vetor inicial de aproximações x, inicialmente com zeros\n",
        "x = np.zeros(n)\n",
        "\n",
        "# Define a tolerância para o critério de parada\n",
        "tolerancia = 1e-10\n",
        "\n",
        "# Define o número máximo de iterações\n",
        "max_iteracoes = 100\n",
        "\n",
        "# Iteração do método de Jacobi\n",
        "for iteracao in range(max_iteracoes):\n",
        "    # Cria uma cópia do vetor x para armazenar os novos valores\n",
        "    x_novo = np.copy(x)\n",
        "\n",
        "    # Para cada variável xi\n",
        "    for i in range(n):\n",
        "        # Calcula a soma dos produtos A[i][j] * x[j] para j ≠ i\n",
        "        soma = 0\n",
        "        for j in range(n):\n",
        "            if j != i:\n",
        "                soma += A[i][j] * x[j]\n",
        "\n",
        "        # Atualiza o valor de xi\n",
        "        x_novo[i] = (b[i] - soma) / A[i][i]\n",
        "\n",
        "    # Verifica o critério de parada com base na diferença entre x_novo e x\n",
        "    if np.allclose(x, x_novo, atol=tolerancia):\n",
        "        break\n",
        "\n",
        "    # Atualiza o vetor x para a próxima iteração\n",
        "    x = x_novo\n",
        "\n",
        "# Exibe a solução aproximada\n",
        "print(\"Solução aproximada:\")\n",
        "print(x)\n",
        "\n",
        "\n"
      ]
    }
  ]
}