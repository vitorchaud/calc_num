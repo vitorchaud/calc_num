{
  "nbformat": 4,
  "nbformat_minor": 0,
  "metadata": {
    "colab": {
      "provenance": [],
      "authorship_tag": "ABX9TyOqZgsqHsNIClvYqz19K81h",
      "include_colab_link": true
    },
    "kernelspec": {
      "name": "python3",
      "display_name": "Python 3"
    },
    "language_info": {
      "name": "python"
    }
  },
  "cells": [
    {
      "cell_type": "markdown",
      "metadata": {
        "id": "view-in-github",
        "colab_type": "text"
      },
      "source": [
        "<a href=\"https://colab.research.google.com/github/vitorchaud/calc_num/blob/main/Elimina%C3%A7%C3%A3o_de_Gauss.ipynb\" target=\"_parent\"><img src=\"https://colab.research.google.com/assets/colab-badge.svg\" alt=\"Open In Colab\"/></a>"
      ]
    },
    {
      "cell_type": "markdown",
      "source": [
        "# **Cálculo Numérico para a Engenheria Elétrica (CALNE) 2S - 2024**\n",
        "\n",
        "---\n",
        "\n",
        "# **Método de Gauss com pivoteamento parcial**\n",
        "---\n",
        "\n"
      ],
      "metadata": {
        "id": "IhBDafmg81kt"
      }
    },
    {
      "cell_type": "code",
      "execution_count": 1,
      "metadata": {
        "colab": {
          "base_uri": "https://localhost:8080/"
        },
        "id": "UrxGl50-8jp4",
        "outputId": "42a34da0-cf46-4dce-dcde-c0937b09987c"
      },
      "outputs": [
        {
          "output_type": "stream",
          "name": "stdout",
          "text": [
            "Solução: [2.0, 3.0, -1.0]\n"
          ]
        }
      ],
      "source": [
        "def eliminacao_gaussiana(matriz_aumentada):\n",
        "    \"\"\"\n",
        "    Resolve um sistema de equações lineares usando a eliminação de Gauss.\n",
        "\n",
        "    Parâmetros:\n",
        "    matriz_aumentada (lista de listas de floats): A matriz aumentada que representa o sistema.\n",
        "\n",
        "    Retorna:\n",
        "    lista de floats: Solução do sistema de equações.\n",
        "    \"\"\"\n",
        "    n = len(matriz_aumentada)\n",
        "\n",
        "    # Eliminação para frente\n",
        "    for i in range(n):\n",
        "        # Garantir que o elemento diagonal não seja zero\n",
        "        if matriz_aumentada[i][i] == 0:\n",
        "            for j in range(i + 1, n):\n",
        "                if matriz_aumentada[j][i] != 0:\n",
        "                    matriz_aumentada[i], matriz_aumentada[j] = matriz_aumentada[j], matriz_aumentada[i]\n",
        "                    break\n",
        "            else:\n",
        "                raise ValueError(\"A matriz é singular ou não possui solução única.\")\n",
        "\n",
        "        # Tornar o elemento diagonal igual a 1 e eliminar os elementos abaixo dele na coluna\n",
        "        for j in range(i + 1, n):\n",
        "            razao = matriz_aumentada[j][i] / matriz_aumentada[i][i]\n",
        "            for k in range(i, n + 1):\n",
        "                matriz_aumentada[j][k] -= razao * matriz_aumentada[i][k]\n",
        "\n",
        "    # Substituição para trás\n",
        "    solucao = [0 for _ in range(n)]\n",
        "    for i in range(n - 1, -1, -1):\n",
        "        solucao[i] = matriz_aumentada[i][n] / matriz_aumentada[i][i]\n",
        "        for j in range(i - 1, -1, -1):\n",
        "            matriz_aumentada[j][n] -= matriz_aumentada[j][i] * solucao[i]\n",
        "\n",
        "    return solucao\n",
        "\n",
        "# Exemplo de uso:\n",
        "matriz_aumentada = [\n",
        "    [2, 1, -1, 8],\n",
        "    [-3, -1, 2, -11],\n",
        "    [-2, 1, 2, -3]\n",
        "]\n",
        "\n",
        "solucao = eliminacao_gaussiana(matriz_aumentada)\n",
        "print(\"Solução:\", solucao)\n"
      ]
    }
  ]
}