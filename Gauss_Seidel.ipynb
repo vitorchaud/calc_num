{
  "nbformat": 4,
  "nbformat_minor": 0,
  "metadata": {
    "colab": {
      "provenance": [],
      "authorship_tag": "ABX9TyNctZJA0/BMVyEeUgvlnCTP",
      "include_colab_link": true
    },
    "kernelspec": {
      "name": "python3",
      "display_name": "Python 3"
    },
    "language_info": {
      "name": "python"
    }
  },
  "cells": [
    {
      "cell_type": "markdown",
      "metadata": {
        "id": "view-in-github",
        "colab_type": "text"
      },
      "source": [
        "<a href=\"https://colab.research.google.com/github/vitorchaud/calc_num/blob/main/Gauss_Seidel.ipynb\" target=\"_parent\"><img src=\"https://colab.research.google.com/assets/colab-badge.svg\" alt=\"Open In Colab\"/></a>"
      ]
    },
    {
      "cell_type": "markdown",
      "source": [
        "# **Cálculo Numérico para a Engenheria Elétrica (CALNE) 2S - 2025**\n",
        "\n",
        "---\n",
        "\n",
        "# **Método de Gauss-Seidel**\n",
        "---\n",
        "\n"
      ],
      "metadata": {
        "id": "IhBDafmg81kt"
      }
    },
    {
      "cell_type": "code",
      "execution_count": 1,
      "metadata": {
        "colab": {
          "base_uri": "https://localhost:8080/"
        },
        "id": "UrxGl50-8jp4",
        "outputId": "590611c6-c44d-42b2-9e08-2a78028bae39"
      },
      "outputs": [
        {
          "output_type": "stream",
          "name": "stdout",
          "text": [
            "[0. 0. 0. 0.]\n",
            "[3.75     3.4375   3.359375 4.453125]\n",
            "[4.609375   4.4921875  4.73632812 4.91210938]\n",
            "[4.87304688 4.90234375 4.95361328 4.98453776]\n",
            "[4.97558594 4.9822998  4.99170939 4.99723646]\n",
            "[4.99557495 4.99682109 4.99851439 4.9995048 ]\n",
            "[4.99920527 4.99942991 4.99973368 4.99991123]\n",
            "[4.99985748 4.99989779 4.99995225 4.99998408]\n",
            "[4.99997445 4.99998168 4.99999144 4.99999715]\n",
            "Convergência alcançada após 9 iterações.\n",
            "Solução aproximada:\n",
            "[4.99999542 4.99999671 4.99999847 4.99999949]\n"
          ]
        }
      ],
      "source": [
        "# Importa a biblioteca NumPy para manipulação de matrizes e vetores\n",
        "import numpy as np\n",
        "\n",
        "# Define a matriz A e o vetor b do sistema Ax = b\n",
        "A = np.array([[4, -1, 0, 0],\n",
        "              [-1, 4, -1, 0],\n",
        "              [0, -1, 4, -1],\n",
        "              [0, 0, -1, 3]], dtype=float)\n",
        "\n",
        "b = np.array([15, 10, 10, 10], dtype=float)\n",
        "\n",
        "# Define o número de variáveis do sistema\n",
        "n = len(b)\n",
        "\n",
        "# Define o vetor inicial de aproximações x, inicialmente com zeros\n",
        "x = np.zeros(n)\n",
        "\n",
        "# Define a tolerância para o critério de parada\n",
        "tolerancia = 1e-10\n",
        "\n",
        "# Define o número máximo de iterações\n",
        "max_iteracoes = 10\n",
        "\n",
        "# Iteração do método de Gauss-Seidel\n",
        "for iteracao in range(max_iteracoes):\n",
        "    # Cria uma cópia do vetor x para verificar o critério de parada posteriormente\n",
        "    x_anterior = np.copy(x)\n",
        "\n",
        "    print(x_anterior)\n",
        "\n",
        "    # Para cada variável xi\n",
        "    for i in range(n):\n",
        "        # Calcula a soma dos produtos A[i][j] * x[j] para j ≠ i\n",
        "        soma = 0\n",
        "        for j in range(n):\n",
        "            if j != i:\n",
        "                soma += A[i][j] * x[j]\n",
        "\n",
        "        # Atualiza o valor de xi usando os valores mais recentes disponíveis\n",
        "        x[i] = (b[i] - soma) / A[i][i]\n",
        "\n",
        "    # Verifica o critério de parada com base na diferença entre x e x_anterior\n",
        "    if np.allclose(x, x_anterior, atol=tolerancia):\n",
        "        print(f\"Convergência alcançada após {iteracao + 1} iterações.\")\n",
        "        break\n",
        "else:\n",
        "    print(\"Número máximo de iterações atingido sem convergência.\")\n",
        "\n",
        "# Exibe a solução aproximada\n",
        "print(\"Solução aproximada:\")\n",
        "print(x)\n"
      ]
    }
  ]
}