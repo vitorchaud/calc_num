{
  "nbformat": 4,
  "nbformat_minor": 0,
  "metadata": {
    "colab": {
      "provenance": [],
      "authorship_tag": "ABX9TyNgBFb8bFhMwADSVW0+bOCe",
      "include_colab_link": true
    },
    "kernelspec": {
      "name": "python3",
      "display_name": "Python 3"
    },
    "language_info": {
      "name": "python"
    }
  },
  "cells": [
    {
      "cell_type": "markdown",
      "metadata": {
        "id": "view-in-github",
        "colab_type": "text"
      },
      "source": [
        "<a href=\"https://colab.research.google.com/github/vitorchaud/calc_num/blob/main/Gauss_Seidel.ipynb\" target=\"_parent\"><img src=\"https://colab.research.google.com/assets/colab-badge.svg\" alt=\"Open In Colab\"/></a>"
      ]
    },
    {
      "cell_type": "markdown",
      "source": [
        "# **Cálculo Numérico para a Engenheria Elétrica (CALNE) 2S - 2025**\n",
        "\n",
        "---\n",
        "\n",
        "# **Método de Gauss-Seidel**\n",
        "---\n",
        "\n"
      ],
      "metadata": {
        "id": "IhBDafmg81kt"
      }
    },
    {
      "cell_type": "code",
      "execution_count": 2,
      "metadata": {
        "colab": {
          "base_uri": "https://localhost:8080/"
        },
        "id": "UrxGl50-8jp4",
        "outputId": "ef85c277-bc73-4289-ff83-43b24c145f58"
      },
      "outputs": [
        {
          "output_type": "stream",
          "name": "stdout",
          "text": [
            "[0. 0. 0.]\n",
            "[-3.5    0.875 29.875]\n",
            "[  71.625      42.171875 -229.328125]\n",
            "[-555.734375   -303.90820312 1934.02929688]\n",
            "[  4679.61914062   2584.18823242 -16119.28833008]\n",
            "[-39009.62670898 -21517.09939575 134536.40744019]\n",
            "[  325578.96890259   179609.16038132 -1122691.71522903]\n",
            "[-2716928.20788193 -1498797.94334459  9368929.88818312]\n",
            "[ 22672922.2487855   12507579.98541564 -78184094.00972635]\n",
            "[-1.89206449e+08 -1.04376233e+08  6.52449576e+08]\n",
            "Número máximo de iterações atingido sem convergência.\n",
            "Solução aproximada:\n",
            "[ 1.57893582e+09  8.71024109e+08 -5.44471915e+09]\n"
          ]
        }
      ],
      "source": [
        "# Importa a biblioteca NumPy para manipulação de matrizes e vetores\n",
        "import numpy as np\n",
        "\n",
        "# Define a matriz A e o vetor b do sistema Ax = b\n",
        "'''\n",
        "A = np.array([[4, -1, 1],\n",
        "              [4, -8, 1],\n",
        "              [-2, 1, 5]], dtype=float)\n",
        "\n",
        "b = np.array([7, -21, 15], dtype=float)\n",
        "'''\n",
        "\n",
        "A = np.array([[-2, 1, 5],\n",
        "              [4, -8, 1],\n",
        "              [4, -1, 1]], dtype=float)\n",
        "\n",
        "b = np.array([7, -21, 15], dtype=float)\n",
        "\n",
        "'''\n",
        "A = np.array([[4, -1, 0, 0],\n",
        "              [-1, 4, -1, 0],\n",
        "              [0, -1, 4, -1],\n",
        "              [0, 0, -1, 3]], dtype=float)\n",
        "\n",
        "b = np.array([15, 10, 10, 10], dtype=float)\n",
        "'''\n",
        "# Define o número de variáveis do sistema\n",
        "n = len(b)\n",
        "\n",
        "# Define o vetor inicial de aproximações x, inicialmente com zeros\n",
        "x = np.zeros(n)\n",
        "\n",
        "# Define a tolerância para o critério de parada\n",
        "tolerancia = 1e-10\n",
        "\n",
        "# Define o número máximo de iterações\n",
        "max_iteracoes = 10\n",
        "\n",
        "# Iteração do método de Gauss-Seidel\n",
        "for iteracao in range(max_iteracoes):\n",
        "    # Cria uma cópia do vetor x para verificar o critério de parada posteriormente\n",
        "    x_anterior = np.copy(x)\n",
        "\n",
        "    print(x_anterior)\n",
        "\n",
        "    # Para cada variável xi\n",
        "    for i in range(n):\n",
        "        # Calcula a soma dos produtos A[i][j] * x[j] para j ≠ i\n",
        "        soma = 0\n",
        "        for j in range(n):\n",
        "            if j != i:\n",
        "                soma += A[i][j] * x[j]\n",
        "\n",
        "        # Atualiza o valor de xi usando os valores mais recentes disponíveis\n",
        "        x[i] = (b[i] - soma) / A[i][i]\n",
        "\n",
        "    # Verifica o critério de parada com base na diferença entre x e x_anterior\n",
        "    if np.allclose(x, x_anterior, atol=tolerancia):\n",
        "        print(f\"Convergência alcançada após {iteracao + 1} iterações.\")\n",
        "        break\n",
        "else:\n",
        "    print(\"Número máximo de iterações atingido sem convergência.\")\n",
        "\n",
        "# Exibe a solução aproximada\n",
        "print(\"Solução aproximada:\")\n",
        "print(x)\n"
      ]
    }
  ]
}