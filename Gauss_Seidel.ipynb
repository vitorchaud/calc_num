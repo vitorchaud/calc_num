{
  "nbformat": 4,
  "nbformat_minor": 0,
  "metadata": {
    "colab": {
      "provenance": [],
      "authorship_tag": "ABX9TyN6uj1resUuA1CuKriWuhDE",
      "include_colab_link": true
    },
    "kernelspec": {
      "name": "python3",
      "display_name": "Python 3"
    },
    "language_info": {
      "name": "python"
    }
  },
  "cells": [
    {
      "cell_type": "markdown",
      "metadata": {
        "id": "view-in-github",
        "colab_type": "text"
      },
      "source": [
        "<a href=\"https://colab.research.google.com/github/vitorchaud/calc_num/blob/main/Gauss_Seidel.ipynb\" target=\"_parent\"><img src=\"https://colab.research.google.com/assets/colab-badge.svg\" alt=\"Open In Colab\"/></a>"
      ]
    },
    {
      "cell_type": "markdown",
      "source": [
        "# **Cálculo Numérico para a Engenheria Elétrica (CALNE) 2S - 2025**\n",
        "\n",
        "---\n",
        "\n",
        "# **Método de Gauss-Seidel**\n",
        "---\n",
        "\n"
      ],
      "metadata": {
        "id": "IhBDafmg81kt"
      }
    },
    {
      "cell_type": "code",
      "execution_count": 1,
      "metadata": {
        "colab": {
          "base_uri": "https://localhost:8080/"
        },
        "id": "UrxGl50-8jp4",
        "outputId": "84218ef2-8c5b-4fc9-f34a-47216bf4f57c"
      },
      "outputs": [
        {
          "output_type": "stream",
          "name": "stdout",
          "text": [
            "Convergência alcançada após 9 iterações.\n",
            "Solução aproximada:\n",
            "[4.99999542 4.99999671 4.99999847 4.99999949]\n"
          ]
        }
      ],
      "source": [
        "# Importa a biblioteca NumPy para manipulação de matrizes e vetores\n",
        "import numpy as np\n",
        "\n",
        "# Define a matriz A e o vetor b do sistema Ax = b\n",
        "A = np.array([[4, -1, 0, 0],\n",
        "              [-1, 4, -1, 0],\n",
        "              [0, -1, 4, -1],\n",
        "              [0, 0, -1, 3]], dtype=float)\n",
        "\n",
        "b = np.array([15, 10, 10, 10], dtype=float)\n",
        "\n",
        "# Define o número de variáveis do sistema\n",
        "n = len(b)\n",
        "\n",
        "# Define o vetor inicial de aproximações x, inicialmente com zeros\n",
        "x = np.zeros(n)\n",
        "\n",
        "# Define a tolerância para o critério de parada\n",
        "tolerancia = 1e-10\n",
        "\n",
        "# Define o número máximo de iterações\n",
        "max_iteracoes = 100\n",
        "\n",
        "# Iteração do método de Gauss-Seidel\n",
        "for iteracao in range(max_iteracoes):\n",
        "    # Cria uma cópia do vetor x para verificar o critério de parada posteriormente\n",
        "    x_anterior = np.copy(x)\n",
        "\n",
        "    # Para cada variável xi\n",
        "    for i in range(n):\n",
        "        # Calcula a soma dos produtos A[i][j] * x[j] para j ≠ i\n",
        "        soma = 0\n",
        "        for j in range(n):\n",
        "            if j != i:\n",
        "                soma += A[i][j] * x[j]\n",
        "\n",
        "        # Atualiza o valor de xi usando os valores mais recentes disponíveis\n",
        "        x[i] = (b[i] - soma) / A[i][i]\n",
        "\n",
        "    # Verifica o critério de parada com base na diferença entre x e x_anterior\n",
        "    if np.allclose(x, x_anterior, atol=tolerancia):\n",
        "        print(f\"Convergência alcançada após {iteracao + 1} iterações.\")\n",
        "        break\n",
        "else:\n",
        "    print(\"Número máximo de iterações atingido sem convergência.\")\n",
        "\n",
        "# Exibe a solução aproximada\n",
        "print(\"Solução aproximada:\")\n",
        "print(x)\n"
      ]
    }
  ]
}